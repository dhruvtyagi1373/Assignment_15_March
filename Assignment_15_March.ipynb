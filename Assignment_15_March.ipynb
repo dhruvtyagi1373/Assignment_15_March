{
 "cells": [
  {
   "cell_type": "markdown",
   "id": "6e142787-d2d4-4bc7-9990-60b512b0dbbe",
   "metadata": {},
   "source": [
    "## Q1 Explain the Following with example:"
   ]
  },
  {
   "cell_type": "markdown",
   "id": "6d685da6-bd8d-43a0-9a49-b84aa408c5a1",
   "metadata": {},
   "source": [
    "i) Artifical Intelligence : Doing different tasks by the machine without human intervention.\n",
    "                            Eg. Chatbot, Self Driving Cars"
   ]
  },
  {
   "cell_type": "markdown",
   "id": "883adc21-02b2-4ac1-a832-a90b284e1245",
   "metadata": {},
   "source": [
    "ii) Machine Learning : It provides stats tool to analyze,visualize the data to create predictive models .\n",
    "                       Eg. Netflix recommendation system,Amazon Product recommendation system"
   ]
  },
  {
   "cell_type": "markdown",
   "id": "041e8ab4-801e-411f-b375-0293e49a4c43",
   "metadata": {},
   "source": [
    "iii) Deep Learning :  Deep learning is a subset of machine learning, which is essentially a neural network with three or more layers. These neural networks attempt to simulate the behavior of the human brain.\n",
    "                      Eg. Virtual Assistants, Facial recognition system."
   ]
  },
  {
   "cell_type": "markdown",
   "id": "460d15d6-3ffd-473a-872e-c44f646f7c3d",
   "metadata": {},
   "source": [
    "## Q2: What is supervised Learning? List some Examples of Supervised Learning "
   ]
  },
  {
   "cell_type": "markdown",
   "id": "59d6ac7d-51cc-4969-9758-8b2853f763ca",
   "metadata": {},
   "source": [
    "Supervised machine learning is the machine learning technique in which the neural network learns to make predictions or classify data based on the labeled datasets.\n",
    "Eg. Predictive analytics (house prices, stock exchange prices, etc.)\n",
    "Text recognition\n",
    "Spam detection\n",
    "Customer sentiment analysis\n",
    "Object detection (e.g. face detection)"
   ]
  },
  {
   "cell_type": "markdown",
   "id": "b05c3e28-db26-4cdd-b2c7-ee7a234650ab",
   "metadata": {},
   "source": [
    "## Q3: What is unsupervised Learning? List some Examples of Unsupervised Learning"
   ]
  },
  {
   "cell_type": "markdown",
   "id": "6e221ff2-04d0-4b74-a5b1-dd5bb5e66bdb",
   "metadata": {},
   "source": [
    "Unsupervised machine learning is the machine learning technique in which the neural network learns to discover the patterns or to cluster the dataset based on unlabeled datasets. Here there are no target variables. while the machine has to self-determined the hidden patterns or relationships within the datasets\n",
    "Eg. Recommendation systems\n",
    "Customer Segmentation\n",
    "Big Data Visualization"
   ]
  },
  {
   "cell_type": "markdown",
   "id": "9fb8232a-9e07-4353-bd94-cc3fd1625b35",
   "metadata": {},
   "source": [
    "## Q4: What is the difference between AI, ML, DL, and DS?"
   ]
  },
  {
   "cell_type": "markdown",
   "id": "9de50e12-cd41-43ae-8452-aa9c1d1501e8",
   "metadata": {},
   "source": [
    "-> Artificial Intelligence (AI) enables machines to think by understanding, learning from the data, and taking decisions based on patterns hidden in the data or make inferences that would otherwise be very difficult for humans to make manually. The end goal of using ML or DL is to create an AI application or machine as smart as humans.\n",
    "-> Machine Learning (ML) is a subset of AI; it provides us statistical tools/techniques like Supervised, Unsupervised, and Reinforcement learning to explore and analyze the data.\n",
    "-> Deep Learning (DL) is further a subset of ML, and the main idea behind it is to make machines learn by mimicking the human brain. Here, we create a multi neural network architecture with the help of different techniques like ANN, CNN, and RNN.\n",
    "-> Data Science (DS) is basically drawing insights from structured and unstructured data either by using ML or DL or without these techniques. We can even use different visualization tools, statistics, and probability to gain these insights."
   ]
  },
  {
   "cell_type": "markdown",
   "id": "ee266138-ed66-496a-9977-362699b5daf3",
   "metadata": {},
   "source": [
    "## Q5- What are the main differences between supervised, unsupervisedd, and semi-supervised learning?"
   ]
  },
  {
   "cell_type": "markdown",
   "id": "939a22d7-521d-4cea-8943-b5b20c3e0edf",
   "metadata": {},
   "source": [
    "-> Supervised learning aims to learn a function that, given a sample of data and desired outputs, approximates a function that maps inputs to outputs.\n",
    "-> Semi-supervised learning aims to label unlabeled data points using knowledge learned from a small number of labeled data points.\n",
    "-> Unsupervised learning does not have (or need) any labeled outputs, so its goal is to infer the natural structure present within a set of data points."
   ]
  },
  {
   "cell_type": "markdown",
   "id": "b327af76-2bc7-4015-9e61-9bad2b4b5d24",
   "metadata": {},
   "source": [
    "## Q6- What is train, test and validation split? Explain the importance of each term."
   ]
  },
  {
   "cell_type": "markdown",
   "id": "3be70ecc-b26d-4b9c-884a-37b3726e6376",
   "metadata": {},
   "source": [
    "For training and testing purposes of our model, we should have our data broken down into three distinct dataset splits.\n",
    "-> The Training Set:\n",
    "It is the set of data that is used to train and make the model learn the hidden features/patterns in the data.\n",
    "-> The Validation Set\n",
    "The validation set is a set of data, separate from the training set, that is used to validate our model performance during training.\n",
    "-> The Test Set\n",
    "The test set is a separate set of data used to test the model after completing the training."
   ]
  },
  {
   "cell_type": "markdown",
   "id": "cdfe46a4-4568-44fb-acec-5471f9be9af7",
   "metadata": {},
   "source": [
    "## Q7- How can unsupervised learning be used in anomaly detection?"
   ]
  },
  {
   "cell_type": "markdown",
   "id": "f182300e-3a61-4119-99b4-59a7dd47ac4d",
   "metadata": {},
   "source": [
    "Anomaly Detection is the technique of identifying rare events or observations which can raise suspicions by being statistically different from the rest of the observations. Such “anomalous” behaviour typically translates to some kind of a problem like a credit card fraud, failing machine in a server, a cyber attack, etc.\n",
    "This method(Unsupervised Learning) does require any training data and instead assumes two things about the data ie Only a small percentage of data is anomalous and Any anomaly is statistically different from the normal samples. Based on the above assumptions, the data is then clustered using a similarity measure and the data points which are far off from the cluster are considered to be anomalies."
   ]
  },
  {
   "cell_type": "markdown",
   "id": "38958214-27a4-465b-a125-5c3f855a7fca",
   "metadata": {},
   "source": [
    "## Q8: List down some commonly used supervised learning algorithms and unsupervised learning algorithms."
   ]
  },
  {
   "cell_type": "markdown",
   "id": "fff40bc1-c5d3-4801-8975-c93f7397942f",
   "metadata": {},
   "source": [
    "Some of the most common algorithms in Supervised Learning include Support Vector Machines (SVM), Logistic Regression, Naive Bayes, Neural Networks, K-nearest neighbor (KNN), and Random Forest.\n",
    "Some of the algorithms in Unsupervised Learning include k-means clustering,hierarchical clustering,apriori clustering."
   ]
  }
 ],
 "metadata": {
  "kernelspec": {
   "display_name": "Python 3 (ipykernel)",
   "language": "python",
   "name": "python3"
  },
  "language_info": {
   "codemirror_mode": {
    "name": "ipython",
    "version": 3
   },
   "file_extension": ".py",
   "mimetype": "text/x-python",
   "name": "python",
   "nbconvert_exporter": "python",
   "pygments_lexer": "ipython3",
   "version": "3.10.8"
  }
 },
 "nbformat": 4,
 "nbformat_minor": 5
}
